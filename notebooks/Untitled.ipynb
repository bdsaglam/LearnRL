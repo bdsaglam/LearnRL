{
 "cells": [
  {
   "cell_type": "code",
   "execution_count": 1,
   "metadata": {},
   "outputs": [],
   "source": [
    "import numpy as np"
   ]
  },
  {
   "cell_type": "code",
   "execution_count": 5,
   "metadata": {},
   "outputs": [],
   "source": [
    "def calculate_returns(rewards: np.ndarray,\n",
    "                      dones: np.ndarray,\n",
    "                      next_value: [np.ndarray, float],\n",
    "                      discount_factor: float) -> np.ndarray:\n",
    "    if rewards.shape != dones.shape:\n",
    "        raise ValueError(\"rewards and dones must have same shape; either (steps, ) or (batch_size, steps)\")\n",
    "    if rewards.ndim == 1:\n",
    "        if not isinstance(next_value, (int, float)) or (isinstance(next_value, np.ndarray) and next_value.ndim != 0):\n",
    "            raise ValueError(f\"next_value must be a float scalar\")\n",
    "        if isinstance(next_value, int):\n",
    "            next_value = float(next_value)\n",
    "    if rewards.ndim == 2:\n",
    "        batch_size, steps = rewards.shape\n",
    "        if next_value.shape != (batch_size, 1):\n",
    "            raise ValueError(f\"next_value's shape must be ({batch_size}, 1)\")\n",
    "\n",
    "    # Bellman backup for Q function\n",
    "    # Q(s_t,a_t) = R_t + gamma * V(s_t+1)\n",
    "    num_steps = rewards.shape[-1]\n",
    "    returns = np.zeros_like(rewards)\n",
    "    for i in reversed(range(num_steps)):\n",
    "        returns[i] = rewards[i] + discount_factor * (1 - dones[i]) * next_value\n",
    "        next_value = returns[i]\n",
    "    return returns"
   ]
  },
  {
   "cell_type": "code",
   "execution_count": 6,
   "metadata": {},
   "outputs": [],
   "source": [
    "rewards = np.array([-1, -1, -1, 1, -1, 1], dtype=np.float32)\n",
    "dones = np.array([0, 0, 0, 0, 0, 1], dtype=np.float32)\n",
    "next_value = 0.0\n",
    "discount_factor = 0.9"
   ]
  },
  {
   "cell_type": "code",
   "execution_count": 7,
   "metadata": {},
   "outputs": [
    {
     "data": {
      "text/plain": [
       "array([-2.0466099 , -1.1629    , -0.18099998,  0.91      , -0.1       ,\n",
       "        1.        ], dtype=float32)"
      ]
     },
     "execution_count": 7,
     "metadata": {},
     "output_type": "execute_result"
    }
   ],
   "source": [
    "calculate_returns(rewards, dones, next_value, discount_factor)"
   ]
  },
  {
   "cell_type": "code",
   "execution_count": 8,
   "metadata": {},
   "outputs": [],
   "source": [
    "import scipy.signal\n",
    "\n",
    "def discount_cumsum(x, discount):\n",
    "    \"\"\"\n",
    "    magic from rllab for computing discounted cumulative sums of vectors.\n",
    "\n",
    "    input: \n",
    "        vector x, \n",
    "        [x0, \n",
    "         x1, \n",
    "         x2]\n",
    "\n",
    "    output:\n",
    "        [x0 + discount * x1 + discount^2 * x2,  \n",
    "         x1 + discount * x2,\n",
    "         x2]\n",
    "    \"\"\"\n",
    "    return scipy.signal.lfilter([1], [1, float(-discount)], x[::-1], axis=0)[::-1]"
   ]
  },
  {
   "cell_type": "code",
   "execution_count": null,
   "metadata": {},
   "outputs": [],
   "source": []
  },
  {
   "cell_type": "code",
   "execution_count": 9,
   "metadata": {},
   "outputs": [
    {
     "data": {
      "text/plain": [
       "array([-2.04661, -1.1629 , -0.181  ,  0.91   , -0.1    ,  1.     ,\n",
       "        0.     ])"
      ]
     },
     "execution_count": 9,
     "metadata": {},
     "output_type": "execute_result"
    }
   ],
   "source": [
    "x = np.append(rewards, next_value)\n",
    "discount_cumsum(x, discount_factor)"
   ]
  },
  {
   "cell_type": "code",
   "execution_count": 10,
   "metadata": {},
   "outputs": [],
   "source": [
    "scipy.signal.lfilter?"
   ]
  },
  {
   "cell_type": "code",
   "execution_count": null,
   "metadata": {},
   "outputs": [],
   "source": []
  }
 ],
 "metadata": {
  "kernelspec": {
   "display_name": "Python 3",
   "language": "python",
   "name": "python3"
  },
  "language_info": {
   "codemirror_mode": {
    "name": "ipython",
    "version": 3
   },
   "file_extension": ".py",
   "mimetype": "text/x-python",
   "name": "python",
   "nbconvert_exporter": "python",
   "pygments_lexer": "ipython3",
   "version": "3.6.10"
  }
 },
 "nbformat": 4,
 "nbformat_minor": 4
}
